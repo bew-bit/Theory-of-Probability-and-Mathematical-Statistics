{
 "cells": [
  {
   "cell_type": "markdown",
   "metadata": {},
   "source": [
    "## Урок 7. Многомерный статистический анализ. Линейная регрессия"
   ]
  },
  {
   "cell_type": "code",
   "execution_count": 1,
   "metadata": {},
   "outputs": [],
   "source": [
    "import numpy as np\n",
    "import pandas as pd\n",
    "import matplotlib.pyplot as plt"
   ]
  },
  {
   "cell_type": "markdown",
   "metadata": {},
   "source": [
    "### Задача 1\n",
    "Даны значения величины заработной платы заемщиков банка (zp) и значения их поведенческого кредитного скоринга (ks): zp = [35, 45, 190, 200, 40, 70, 54, 150, 120, 110], ks = [401, 574, 874, 919, 459, 739, 653, 902, 746, 832]. Используя математические операции, посчитать коэффициенты линейной регрессии, приняв за X заработную плату (то есть, zp - признак), а за y - значения скорингового балла (то есть, ks - целевая переменная). Произвести расчет как с использованием intercept, так и без."
   ]
  },
  {
   "cell_type": "markdown",
   "metadata": {},
   "source": [
    "1)."
   ]
  },
  {
   "cell_type": "code",
   "execution_count": 2,
   "metadata": {},
   "outputs": [
    {
     "data": {
      "text/plain": [
       "(444.1773573243596, 2.620538882402765)"
      ]
     },
     "execution_count": 2,
     "metadata": {},
     "output_type": "execute_result"
    }
   ],
   "source": [
    "x = np.array([35, 45, 190, 200, 40, 70, 54, 150, 120, 110])\n",
    "y = np.array([401, 574, 874, 919, 459, 739, 653, 902, 746, 832])\n",
    "b = (np.mean(x*y) - np.mean(x) * np.mean(y)) / (np.mean(x**2) - np.mean(x)**2)\n",
    "a = np.mean(y) - b * np.mean(x)\n",
    "a, b"
   ]
  },
  {
   "cell_type": "code",
   "execution_count": 3,
   "metadata": {},
   "outputs": [
    {
     "data": {
      "image/png": "[encoded data removed]",
      "text/plain": [
       "<Figure size 432x288 with 1 Axes>"
      ]
     },
     "metadata": {
      "needs_background": "light"
     },
     "output_type": "display_data"
    }
   ],
   "source": [
    "plt.scatter(x,y)\n",
    "plt.plot(x, a + b*x)\n",
    "plt.show()"
   ]
  },
  {
   "cell_type": "markdown",
   "metadata": {},
   "source": [
    "2)."
   ]
  },
  {
   "cell_type": "code",
   "execution_count": 4,
   "metadata": {},
   "outputs": [
    {
     "data": {
      "text/plain": [
       "array([[  1.,  35.],\n",
       "       [  1.,  45.],\n",
       "       [  1., 190.],\n",
       "       [  1., 200.],\n",
       "       [  1.,  40.],\n",
       "       [  1.,  70.],\n",
       "       [  1.,  54.],\n",
       "       [  1., 150.],\n",
       "       [  1., 120.],\n",
       "       [  1., 110.]])"
      ]
     },
     "execution_count": 4,
     "metadata": {},
     "output_type": "execute_result"
    }
   ],
   "source": [
    "x_ = x.reshape((len(x),1))\n",
    "y_ = y.reshape((len(y), 1))\n",
    "x_ = np.hstack([np.ones((len(x_),1)),x_])\n",
    "x_"
   ]
  },
  {
   "cell_type": "code",
   "execution_count": 5,
   "metadata": {},
   "outputs": [
    {
     "data": {
      "text/plain": [
       "array([[444.17735732,   2.62053888]])"
      ]
     },
     "execution_count": 5,
     "metadata": {},
     "output_type": "execute_result"
    }
   ],
   "source": [
    "c = np.dot(np.linalg.inv(np.dot(x_.T, x_)), x_.T@y_)\n",
    "c.reshape(1,len(c))"
   ]
  },
  {
   "cell_type": "code",
   "execution_count": 6,
   "metadata": {},
   "outputs": [
    {
     "data": {
      "image/png": "[encoded data removed]",
      "text/plain": [
       "<Figure size 432x288 with 1 Axes>"
      ]
     },
     "metadata": {
      "needs_background": "light"
     },
     "output_type": "display_data"
    }
   ],
   "source": [
    "plt.scatter(x,y)\n",
    "plt.plot(x, c[0,0] + c[1,0]*x)\n",
    "plt.show()"
   ]
  },
  {
   "cell_type": "markdown",
   "metadata": {},
   "source": [
    "### Задача 2\n",
    "Посчитать коэффициент линейной регрессии при заработной плате (zp), используя градиентный спуск (без intercept)."
   ]
  },
  {
   "cell_type": "code",
   "execution_count": 7,
   "metadata": {},
   "outputs": [
    {
     "name": "stdout",
     "output_type": "stream",
     "text": [
      "iteration: 0, B1: 0.25952808,\tmse: 493237.7212546963\n",
      "iteration: 100, B1: 5.54537842245223,\tmse: 58151.31823171113\n",
      "iteration: 200, B1: 5.868748638669329,\tmse: 56522.97550129376\n",
      "iteration: 300, B1: 5.888531320728348,\tmse: 56516.88130936019\n",
      "iteration: 400, B1: 5.8897415574471985,\tmse: 56516.85850140053\n",
      "iteration: 500, B1: 5.889815595583751,\tmse: 56516.858416040064\n",
      "iteration: 600, B1: 5.889820124983314,\tmse: 56516.85841572062\n",
      "iteration: 700, B1: 5.889820402076462,\tmse: 56516.85841571941\n",
      "iteration: 800, B1: 5.88982041902807,\tmse: 56516.8584157194\n",
      "iteration: 900, B1: 5.889820420065112,\tmse: 56516.85841571941\n"
     ]
    }
   ],
   "source": [
    "zp = np.array([35, 45, 190, 200, 40, 70, 54, 150, 120, 110])\n",
    "ks = np.array([401, 574, 874, 919, 459, 739, 653, 902, 746, 832])\n",
    "n = len(ks)\n",
    "alpha = 1e-6\n",
    "B1 = 0.1\n",
    "\n",
    "def mse_(B1, y=ks, X=zp, n=len(ks)):\n",
    "    return np.sum((B1 * X - y)**2) / n\n",
    "\n",
    "for i in range(1000):\n",
    "    B1 -= alpha*(2/n)*np.sum((B1*zp-ks)*zp)\n",
    "    if i % 100 == 0:\n",
    "        print(f'iteration: {i}, B1: {B1},\\tmse: {mse_(B1)}')"
   ]
  },
  {
   "cell_type": "code",
   "execution_count": 8,
   "metadata": {},
   "outputs": [
    {
     "name": "stdout",
     "output_type": "stream",
     "text": [
      "iteration: 0, B1: 5.8898204201285544,\tmse: 56516.85841571941\n",
      "iteration: 500, B1: 5.889820420132673,\tmse: 56516.85841571943\n",
      "iteration: 1000, B1: 5.889820420132673,\tmse: 56516.85841571943\n",
      "iteration: 1500, B1: 5.889820420132673,\tmse: 56516.85841571943\n",
      "iteration: 2000, B1: 5.889820420132673,\tmse: 56516.85841571943\n",
      "iteration: 2500, B1: 5.889820420132673,\tmse: 56516.85841571943\n"
     ]
    }
   ],
   "source": [
    "for i in range(3000):\n",
    "    B1 -= alpha*(2/n)*np.sum((B1*zp-ks)*zp)\n",
    "    if i%500==0:\n",
    "        print(f'iteration: {i}, B1: {B1},\\tmse: {mse_(B1)}')"
   ]
  },
  {
   "cell_type": "code",
   "execution_count": 9,
   "metadata": {},
   "outputs": [
    {
     "data": {
      "text/plain": [
       "56516.85841571943"
      ]
     },
     "execution_count": 9,
     "metadata": {},
     "output_type": "execute_result"
    }
   ],
   "source": [
    "mse_(5.88982042)"
   ]
  },
  {
   "cell_type": "markdown",
   "metadata": {},
   "source": [
    "### Задача 3\n",
    "Произвести вычисления как в пункте 2, но с вычислением intercept. Учесть, что изменение коэффициентов должно производиться на каждом шаге одновременно (то есть изменение одного коэффициента не должно влиять на изменение другого во время одной итерации)."
   ]
  },
  {
   "cell_type": "code",
   "execution_count": 10,
   "metadata": {},
   "outputs": [
    {
     "name": "stdout",
     "output_type": "stream",
     "text": [
      "iteration: 0,   \tB: [1.0013164 0.648304 ]\n",
      "iteration: 500,   \tB: [1.15222848 5.88139522]\n",
      "iteration: 1000,   \tB: [1.26458813 5.88057269]\n",
      "iteration: 1500,   \tB: [1.37691925 5.87974588]\n",
      "iteration: 2000,   \tB: [1.48922189 5.87891928]\n",
      "iteration: 2500,   \tB: [1.60149604 5.8780929 ]\n"
     ]
    }
   ],
   "source": [
    "zp = np.array([35, 45, 190, 200, 40, 70, 54, 150, 120, 110])\n",
    "ks = np.array([401, 574, 874, 919, 459, 739, 653, 902, 746, 832])\n",
    "\n",
    "zp = np.vstack([np.ones(len(zp)),zp])\n",
    "n = len(ks)\n",
    "alpha = 1e-6\n",
    "B = np.array([1, 0.5])\n",
    "\n",
    " \n",
    "for i in range(3000):\n",
    "  gf = np.dot(B, zp)\n",
    "  B -= alpha*(2/n)*np.dot((gf-ks), zp.T)\n",
    "  if i % 500 == 0:\n",
    "    print(f'iteration: {i},   \\tB: {B}')"
   ]
  }
 ],
 "metadata": {
  "kernelspec": {
   "display_name": "Python 3",
   "language": "python",
   "name": "python3"
  },
  "language_info": {
   "codemirror_mode": {
    "name": "ipython",
    "version": 3
   },
   "file_extension": ".py",
   "mimetype": "text/x-python",
   "name": "python",
   "nbconvert_exporter": "python",
   "pygments_lexer": "ipython3",
   "version": "3.8.3"
  }
 },
 "nbformat": 4,
 "nbformat_minor": 4
}
