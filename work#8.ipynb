{
 "cells": [
  {
   "cell_type": "markdown",
   "metadata": {},
   "source": [
    "## Урок 8. Дисперсионный анализ. Логистическая регрессия"
   ]
  },
  {
   "cell_type": "code",
   "execution_count": 1,
   "metadata": {},
   "outputs": [],
   "source": [
    "import numpy as np\n",
    "from scipy import stats"
   ]
  },
  {
   "cell_type": "markdown",
   "metadata": {},
   "source": [
    "Провести дисперсионный анализ для определения того, есть ли различия среднего роста среди взрослых футболистов, хоккеистов и штангистов.<br/>\n",
    "Даны значения роста в трех группах случайно выбранных спортсменов:<br/>\n",
    "Футболисты: 173, 175, 180, 178, 177, 185, 183, 182.<br/>\n",
    "Хоккеисты: 177, 179, 180, 188, 177, 172, 171, 184, 180.<br/>\n",
    "Штангисты: 172, 173, 169, 177, 166, 180, 178, 177, 172, 166, 170."
   ]
  },
  {
   "cell_type": "code",
   "execution_count": 2,
   "metadata": {},
   "outputs": [],
   "source": [
    "k = 3\n",
    "fs = np.array([173, 175, 180, 178, 177, 185, 183, 182])\n",
    "hs = np.array([177, 179, 180, 188, 177, 172, 171, 184, 180])\n",
    "ws = np.array([172, 173, 169, 177, 166, 180, 178, 177, 172, 166, 170])"
   ]
  },
  {
   "cell_type": "markdown",
   "metadata": {},
   "source": [
    "Средний рост в каждой выборке:"
   ]
  },
  {
   "cell_type": "code",
   "execution_count": 3,
   "metadata": {},
   "outputs": [
    {
     "name": "stdout",
     "output_type": "stream",
     "text": [
      "футболистов:\t179.125 см\n",
      "хоккеистов:\t178.667 см\n",
      "штангистов:\t172.727 см\n"
     ]
    }
   ],
   "source": [
    "f_mean = fs.mean()\n",
    "h_mean = hs.mean()\n",
    "w_mean = ws.mean()\n",
    "print(f'футболистов:\\t{f_mean} см\\nхоккеистов:\\t{round(h_mean,3)} см\\nштангистов:\\t{round(w_mean,3)} см')"
   ]
  },
  {
   "cell_type": "markdown",
   "metadata": {},
   "source": [
    "Средний рост всех случайно выбранных спортсменов:"
   ]
  },
  {
   "cell_type": "code",
   "execution_count": 4,
   "metadata": {},
   "outputs": [
    {
     "data": {
      "text/plain": [
       "176.464"
      ]
     },
     "execution_count": 4,
     "metadata": {},
     "output_type": "execute_result"
    }
   ],
   "source": [
    "all_ = np.hstack((fs,hs,ws))\n",
    "all_mean = all_.mean()\n",
    "round(all_mean,3)"
   ]
  },
  {
   "cell_type": "code",
   "execution_count": 5,
   "metadata": {},
   "outputs": [
    {
     "data": {
      "text/plain": [
       "F_onewayResult(statistic=5.500053450812596, pvalue=0.010482206918698694)"
      ]
     },
     "execution_count": 5,
     "metadata": {},
     "output_type": "execute_result"
    }
   ],
   "source": [
    "stats.f_oneway(fs,hs,ws)"
   ]
  },
  {
   "cell_type": "markdown",
   "metadata": {},
   "source": [
    "**pvalue низкий, значит, группы различаются.<br/>\n",
    "statistic > 1 - группы различаются значительно.**"
   ]
  }
 ],
 "metadata": {
  "kernelspec": {
   "display_name": "Python 3",
   "language": "python",
   "name": "python3"
  },
  "language_info": {
   "codemirror_mode": {
    "name": "ipython",
    "version": 3
   },
   "file_extension": ".py",
   "mimetype": "text/x-python",
   "name": "python",
   "nbconvert_exporter": "python",
   "pygments_lexer": "ipython3",
   "version": "3.8.3"
  }
 },
 "nbformat": 4,
 "nbformat_minor": 4
}
