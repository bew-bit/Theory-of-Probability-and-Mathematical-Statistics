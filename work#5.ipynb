{
 "cells": [
  {
   "cell_type": "markdown",
   "metadata": {},
   "source": [
    "## Урок 5. Проверка статистических гипотез. P-значения. Доверительные интервалы. A/B-тестирование"
   ]
  },
  {
   "cell_type": "code",
   "execution_count": 1,
   "metadata": {},
   "outputs": [],
   "source": [
    "import math as m\n",
    "import numpy as np\n",
    "from scipy.stats import norm\n",
    "import matplotlib.pyplot as plt"
   ]
  },
  {
   "cell_type": "markdown",
   "metadata": {},
   "source": [
    "### Задача 1\n",
    "Известно, что генеральная совокупность распределена нормально \u000b",
    "со средним квадратическим отклонением, равным 16.\u000b",
    "Найти доверительный интервал для оценки математического ожидания с надежностью 0.95,\u000b",
    "если выборочная средняя M = 80, а объем выборки n = 256."
   ]
  },
  {
   "cell_type": "markdown",
   "metadata": {},
   "source": [
    "$\n",
    "\\bar x - t_\\gamma {\\sigma \\over \\sqrt n} < \\alpha < \\bar x + t_\\gamma {\\sigma \\over \\sqrt n}\n",
    "$<br/><br/>$\n",
    "\\bar x = 80\n",
    "$<br/>$\n",
    "\\sigma = 16\n",
    "$<br/>$\n",
    "n = 256\n",
    "$<br/>$\n",
    "t_\\gamma\\,определю\\,из\\,таблицы:\\,\\Phi(t_\\gamma) = {\\gamma \\over 2} = {0,95 \\over 2} = 0,475\n",
    "$<br/>$\n",
    "t_\\gamma \\approx 1,96\n",
    "$<br/><br/>$\n",
    "80 - 1,96{16 \\over \\sqrt {256}} < \\alpha < 80 + 1,96{16 \\over \\sqrt {256}}\n",
    "$<br/>$\n",
    "78,04 < \\alpha < 81,96\n",
    "$<br/><br/>\n",
    "Доверительный интервал:<br/>\n",
    "(78,04; 81,96)"
   ]
  },
  {
   "cell_type": "markdown",
   "metadata": {},
   "source": [
    "### Задача 2\n",
    "В результате 10 независимых измерений некоторой величины X, выполненных с одинаковой точностью,\u000b",
    "получены опытные данные:\u000b",
    "6.9, 6.1, 6.2, 6.8, 7.5, 6.3, 6.4, 6.9, 6.7, 6.1\u000b",
    "Предполагая, что результаты измерений подчинены нормальному закону распределения вероятностей,\u000b",
    "оценить истинное значение величины X при помощи доверительного интервала, покрывающего это\u000b",
    "значение с доверительной вероятностью 0,95."
   ]
  },
  {
   "cell_type": "code",
   "execution_count": 2,
   "metadata": {},
   "outputs": [
    {
     "data": {
      "text/plain": [
       "(6.59, 0.45)"
      ]
     },
     "execution_count": 2,
     "metadata": {},
     "output_type": "execute_result"
    }
   ],
   "source": [
    "x = np.array([6.9, 6.1, 6.2, 6.8, 7.5, 6.3, 6.4, 6.9, 6.7, 6.1])\n",
    "n =10\n",
    "mean = round(x.mean(), 2)\n",
    "sd = round(m.sqrt(x.var(ddof=1)), 2)\n",
    "mean, sd"
   ]
  },
  {
   "cell_type": "markdown",
   "metadata": {},
   "source": [
    "$\n",
    "t_\\gamma\\,определю\\,из\\,таблицы\\,(при\\,условии\\,того,\\,что\\,n=10):\n",
    "$<br/>$\n",
    "t_\\gamma \\approx 2,262\n",
    "$"
   ]
  },
  {
   "cell_type": "code",
   "execution_count": 3,
   "metadata": {},
   "outputs": [
    {
     "data": {
      "text/plain": [
       "(6.268, 6.912)"
      ]
     },
     "execution_count": 3,
     "metadata": {},
     "output_type": "execute_result"
    }
   ],
   "source": [
    "right_lim = round(mean - 2.262*sd/m.sqrt(n), 3)\n",
    "left_lim = round(mean + 2.262*sd/m.sqrt(n), 3)\n",
    "right_lim, left_lim"
   ]
  },
  {
   "cell_type": "markdown",
   "metadata": {},
   "source": [
    "### Задача 3\n",
    "Утверждается, что шарики для подшипников, изготовленные автоматическим станком, имеют средний диаметр 17 мм.\u000b",
    "Используя односторонний критерий с α=0,05, проверить эту гипотезу, если в выборке из n=100 шариков средний диаметр\u000b",
    "оказался равным 17.5 мм, а дисперсия известна и равна 4 кв.мм."
   ]
  },
  {
   "cell_type": "code",
   "execution_count": 4,
   "metadata": {},
   "outputs": [
    {
     "data": {
      "text/plain": [
       "1.25"
      ]
     },
     "execution_count": 4,
     "metadata": {},
     "output_type": "execute_result"
    }
   ],
   "source": [
    "mean_0 = 17\n",
    "mean = 17.5\n",
    "n = 100\n",
    "sd = 4\n",
    "t = ((mean - mean_0)/sd)*m.sqrt(n)\n",
    "t"
   ]
  },
  {
   "cell_type": "markdown",
   "metadata": {},
   "source": [
    "$\n",
    "t_{расчетное}\\,=\\,1,25\n",
    "$<br/>$\n",
    "t_{табличное}\\,\\approx\\,1,645\n",
    "$<br/>$\n",
    "t_{расчетное}\\,<\\,t_{табличное},\\,значит:\n",
    "$<br/><br/>$\n",
    "можно\\,считать,\\,что\\,средний\\,диаметр\\,действительно\\,равен\\,17\\,мм.\n",
    "$"
   ]
  },
  {
   "cell_type": "markdown",
   "metadata": {},
   "source": [
    "### Задача 4\n",
    "Продавец утверждает, что средний вес пачки печенья составляет 200 г. Из партии извлечена выборка из 10 пачек.\n",
    "Вес каждой пачки составляет:\n",
    "202, 203, 199, 197, 195, 201, 200, 204, 194, 190. Известно,\n",
    "что их веса распределены нормально.\n",
    "Верно ли утверждение продавца, если учитывать, что доверительная вероятность равна 99%?"
   ]
  },
  {
   "cell_type": "code",
   "execution_count": 5,
   "metadata": {},
   "outputs": [
    {
     "data": {
      "text/plain": [
       "(198.5, 4.453)"
      ]
     },
     "execution_count": 5,
     "metadata": {},
     "output_type": "execute_result"
    }
   ],
   "source": [
    "x = np.array([202, 203, 199, 197, 195, 201, 200, 204, 194, 190])\n",
    "mean_0 = 200\n",
    "n = 10\n",
    "mean = x.mean()\n",
    "sd = round(m.sqrt(x.var(ddof=1)), 3)\n",
    "\n",
    "mean, sd"
   ]
  },
  {
   "cell_type": "code",
   "execution_count": 6,
   "metadata": {},
   "outputs": [
    {
     "data": {
      "text/plain": [
       "-1.065"
      ]
     },
     "execution_count": 6,
     "metadata": {},
     "output_type": "execute_result"
    }
   ],
   "source": [
    "t = round(((mean - mean_0)/sd)*m.sqrt(n), 3)\n",
    "t"
   ]
  },
  {
   "cell_type": "markdown",
   "metadata": {},
   "source": [
    "$\n",
    "t_{расчетное}\\,=\\,-1,065\n",
    "$<br/>$\n",
    "t_{табличное}\\,\\approx\\,3,25\n",
    "$<br/>$\n",
    "|t_{расчетное}|\\,<\\,t_{табличное},\\,значит:\n",
    "$<br/><br/>$\n",
    "можно\\,считать,\\,что\\,средний\\,вес\\,действительно\\,равен\\,200\\,г.\n",
    "$"
   ]
  }
 ],
 "metadata": {
  "kernelspec": {
   "display_name": "Python 3",
   "language": "python",
   "name": "python3"
  },
  "language_info": {
   "codemirror_mode": {
    "name": "ipython",
    "version": 3
   },
   "file_extension": ".py",
   "mimetype": "text/x-python",
   "name": "python",
   "nbconvert_exporter": "python",
   "pygments_lexer": "ipython3",
   "version": "3.8.3"
  }
 },
 "nbformat": 4,
 "nbformat_minor": 4
}
